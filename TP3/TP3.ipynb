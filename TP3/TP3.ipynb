{
 "cells": [
  {
   "attachments": {},
   "cell_type": "markdown",
   "metadata": {},
   "source": [
    "# EE-411, HomeWork 3 : Neural networks"
   ]
  },
  {
   "attachments": {},
   "cell_type": "markdown",
   "metadata": {},
   "source": [
    "## 1. Backpropagation with logistic loss"
   ]
  },
  {
   "attachments": {},
   "cell_type": "markdown",
   "metadata": {},
   "source": [
    "### 1) Predict Function"
   ]
  },
  {
   "cell_type": "code",
   "execution_count": null,
   "metadata": {},
   "outputs": [],
   "source": [
    "import numpy as np\n",
    "\n",
    "D = 5\n",
    "K = 6\n",
    "\n",
    "def sigmoid(x):\n",
    "    return 1 / (1 + np.exp(-x))\n",
    "\n",
    "def predict(X, W):\n",
    "    # X: B x D\n",
    "    # W: {w1: D x K, w2: K x 1}\n",
    "    # z1: B x K\n",
    "    # z2: B x 1\n",
    "    # yhat: B x 1\n",
    "    z1 = np.dot(X, W['w1'])\n",
    "    x1 = sigmoid(z1)\n",
    "    z2 = np.dot(x1, W['w2'])\n",
    "    yhat = sigmoid(z2)\n",
    "    return z1, z2, yhat"
   ]
  },
  {
   "attachments": {},
   "cell_type": "markdown",
   "metadata": {},
   "source": [
    "### 2)Logistic Loss function"
   ]
  },
  {
   "cell_type": "code",
   "execution_count": null,
   "metadata": {},
   "outputs": [],
   "source": [
    "\n",
    "def logistic_loss(y, yhat):\n",
    "    # y: B x 1\n",
    "    # yhat: B x 1\n",
    "    # loss: B x 1\n",
    "    B = y.shape[0]\n",
    "    loss_sum = np.sum(-y * np.log(yhat) - (1 - y) * np.log(1 - yhat)) / B\n",
    "    return loss_sum\n",
    "\n",
    "\n",
    "# testing with yhat =  y -> 0, not possible to compute log(0)\n",
    "y = np.ones(10)    * 0.000000000000000\n",
    "yhat = np.ones(10) * 0.000000000000000001\n",
    "print(logistic_loss(y, yhat))\n"
   ]
  },
  {
   "attachments": {},
   "cell_type": "markdown",
   "metadata": {},
   "source": [
    "For $\\mathbf y \\simeq \\mathbf{\\^{y}} \\simeq 0$, we get an average logistic loss of nearly 0 for the whole batch. This is expected, as the expected value and the ground truth are equal. However, $0$ is not a valid value for this is undetermined for the $log(\\mathbf{\\^{y}})$"
   ]
  },
  {
   "attachments": {},
   "cell_type": "markdown",
   "metadata": {},
   "source": [
    "### 3)Stable Logistic Loss function"
   ]
  },
  {
   "attachments": {},
   "cell_type": "markdown",
   "metadata": {},
   "source": [
    "To get a stable logistic loss function, we'll employ $z_2$ and the activation function (sigmoid in this case), instead of directly using $\\^y$. By injecting :\n",
    "\n",
    "$$\\^y = \\sigma(z_2) = \\frac{1}{1 + e^{-z_2}}$$\n",
    "\n",
    "Into:\n",
    "\n",
    "$$ \\mathcal{L} = -y\\cdot log\\left(\\^y\\right) -(1-y)\\cdot log\\left(1 - \\^y\\right)$$\n",
    "\n",
    "We get:\n",
    "$$ \\mathcal{L} = -y\\cdot log\\left( \\frac{1}{1 + e^{-z_2}}\\right) -(1-y)\\cdot log\\left(\\frac{e^{-z_2}}{1 + e^{-z_2}}\\right)$$\n",
    "\n",
    "With basic manipulations, we get the following final expression for the logistic loss function:\n",
    "\n",
    "$$ \\mathcal{L} = -z_2\\cdot y + log(e^{-z_2} + 1)$$\n",
    "\n",
    "Which does not have the same issue as the normal logistic function used above, as we have a stable function here."
   ]
  },
  {
   "cell_type": "code",
   "execution_count": null,
   "metadata": {},
   "outputs": [],
   "source": [
    "def stable_logistic_loss(y, z2):\n",
    "    # y: B x 1\n",
    "    # z2: B x 1\n",
    "    # loss: B x 1\n",
    "    B = y.shape[0]\n",
    "    loss_sum = np.sum(-y * z2 + np.logaddexp(0, z2))/B\n",
    "    return loss_sum\n",
    "\n",
    "\n",
    "z_2 = -10E10 * np.ones(10)\n",
    "y = 0 * np.ones(10)\n",
    "print(\"For z_2 = -10E10, y = 0\")\n",
    "print(\"Normal Logistic loss function :\", logistic_loss(y, sigmoid(z_2)))\n",
    "print(\"Stable Logistic loss function :\", stable_logistic_loss(y, z_2))"
   ]
  },
  {
   "attachments": {},
   "cell_type": "markdown",
   "metadata": {},
   "source": [
    "### 4) Partial Derivatives of the loss with respect to the weights\n"
   ]
  },
  {
   "attachments": {},
   "cell_type": "markdown",
   "metadata": {},
   "source": [
    "Backpropagation is, simply put, a method of calculating partial derivatives by working backwards, from the output to the intermediary results, through the weights all up to the input. The chain rule is incredibly useful for this. Let's start with:\n",
    "\n",
    "$$ \\frac{\\partial}{\\partial w_i} \\mathcal L(\\vec x, y, \\vec w) == \\frac{\\partial\\mathcal L}{\\partial \\^y} \\cdot \\frac{\\partial \\^y}{\\partial w_i^{(2)}}$$\n",
    "\n",
    "$$ \\rightarrow \\frac{\\partial \\^y}{\\partial w_i^{(2)}} = \\frac{\\partial}{\\partial w_i^{(2)}} \\left(\\frac{1}{1 + e^{-\\vec w_2^T \\cdot \\vec x^{(1)}}}\\right) = \\frac{\\partial}{\\partial w_i^{(2)}} \\left(\\frac{1}{1 + e^{- w_{2,i} \\cdot  x_i^{(1)}}}\\right) = \\frac{x_i^{(1)\\cdot e^{-w_i^{(2)}x_i} }}{\\left( 1 + e^{-w_i^{(2)}x_i} \\right)^2 }$$\n",
    "\n",
    "$$ \\frac{\\partial \\mathcal L}{\\partial \\^y}  = \\frac{\\partial}{\\partial \\^y} \\left( -y\\cdot log(\\^y) -(1 - y)\\cdot log(1-\\^y) \\right) = \\frac{\\^y -y}{y\\cdot (1-\\^y)}$$\n",
    "\n",
    "Which gives us:\n",
    "\n",
    "$$ \\frac{\\partial}{\\partial w_i^{(2)}} \\mathcal L(\\vec x, y, \\vec w) = \\frac{\\partial \\mathcal L}{\\partial \\^y} \\cdot \\frac{\\partial \\^y}{\\partial w_i^{(2)}} = \\frac{\\^y -y}{y\\cdot (1-\\^y)} \\cdot \\frac{x_i^{(1)\\cdot e^{-w_i^{(2)}x_i} }}{\\left( 1 + e^{-w_i^{(2)}x_i} \\right)^2 }$$\n",
    "\n",
    "With the same logic, we can get the partial derivative of the loss with respect to the weights of the first layer:\n",
    "\n",
    "$$ \\frac{\\partial}{\\partial w_i^{(1)}} \\mathcal L(\\vec x, y, \\vec w) = \\frac{\\partial \\mathcal L}{\\partial \\^y} \\cdot \\frac{\\partial \\^y}{\\partial z_2} \\cdot \\frac{\\partial z_2}{\\partial w_i^{(1)}}$$\n",
    "\n",
    "$$ \\rightarrow \\frac{\\partial \\^y}{\\partial z_2} = \\frac{\\partial}{\\partial z_2} \\left(\\frac{1}{1 + e^{-\\vec w_2^T \\cdot \\vec x^{(1)}}}\\right) = \\frac{\\partial}{\\partial z_2} \\left(\\frac{1}{1 + e^{- \\vec w_2^T \\cdot \\vec x^{(1)}}}\\right) = \\frac{e^{-z_2}}{\\left( 1 + e^{-z_2} \\right)^2 }$$\n",
    "\n",
    "$$ \\frac{\\partial z_2}{\\partial w_i^{(1)}} = \\frac{\\partial}{\\partial w_i^{(1)}} \\left(\\vec w_2^T \\cdot \\vec x^{(1)}\\right) = \\frac{\\partial}{\\partial w_i^{(1)}} \\left(w_{2,i} \\cdot  x_i^{(1)}\\right) = x_i^{(1)}$$\n",
    "\n",
    "$$ \\frac{\\partial \\mathcal L}{\\partial \\^y}  = \\frac{\\partial}{\\partial \\^y} \\left( -y\\cdot log(\\^y) -(1 - y)\\cdot log(1-\\^y) \\right) = \\frac{\\^y -y}{y\\cdot (1-\\^y)}$$\n",
    "\n",
    "Which gives us:\n",
    "\n",
    "$$ \\frac{\\partial}{\\partial w_i^{(1)}} \\mathcal L(\\vec x, y, \\vec w) = \\frac{\\partial \\mathcal L}{\\partial \\^y} \\cdot \\frac{\\partial \\^y}{\\partial z_2} \\cdot \\frac{\\partial z_2}{\\partial w_i^{(1)}} = \\frac{\\^y -y}{y\\cdot (1-\\^y)} \\cdot \\frac{e^{-z_2}}{\\left( 1 + e^{-z_2} \\right)^2 } \\cdot x_i^{(1)}$$\n",
    "\n",
    "\n",
    "With $\\vec x^{(1)}$ being the input vector, $\\vec w_2$ being the weights of the second layer, and $\\vec w_1$ being the weights of the first layer. By replacing:\n",
    "\n",
    "$$ \\^y = \\sigma \\left( \\vec w^{(2)T}\\cdot \\sigma \\left( \\vec w^{(1)T}\\cdot \\vec x^{(0)} \\right) \\right)$$\n",
    "\n",
    "and \n",
    "\n",
    "$$ z^{(2)} = \\vec w^{(2)T}\\cdot \\vec x^{(1)}$$ \n",
    "\n",
    "Where $\\sigma(z)$ is the sigmoid function:\n",
    "\n",
    "$$ \\sigma(z) = \\frac{1}{1 + e^{-z}}$$\n",
    "\n",
    "\n"
   ]
  },
  {
   "attachments": {},
   "cell_type": "markdown",
   "metadata": {},
   "source": [
    "### 5) Gradient Descent function"
   ]
  },
  {
   "cell_type": "code",
   "execution_count": null,
   "metadata": {},
   "outputs": [],
   "source": [
    "def logistic_loss_grad(X, y, W):\n",
    "    # X: B x D\n",
    "    # y: B x 1\n",
    "    # W: {w1: D x K, w2: K x 1}\n",
    "    # z1: B x K\n",
    "    # z2: B x 1\n",
    "    # yhat: B x 1\n",
    "    # grad: {w1: D x K, w2: K x 1}\n",
    "    B = X.shape[0]\n",
    "    z1, z2, yhat = predict(X, W)\n",
    "    grad = {}\n",
    "    grad['w2'] = np.dot(sigmoid(z1).T, yhat - y) / B\n",
    "    grad['w1'] = np.dot(X.T, np.dot(yhat - y, W['w2'].T) * sigmoid(z1) * (1 - sigmoid(z1))) / B\n",
    "    return grad"
   ]
  },
  {
   "attachments": {},
   "cell_type": "markdown",
   "metadata": {},
   "source": [
    "# 2. Classifying FashionMNIST using neural networks"
   ]
  },
  {
   "attachments": {},
   "cell_type": "markdown",
   "metadata": {},
   "source": [
    "### 1) Load dataset and construct dataloader "
   ]
  },
  {
   "attachments": {},
   "cell_type": "markdown",
   "metadata": {},
   "source": [
    "The data is given in the PIL (*Python Image Library*) format. We therefore need to convert it to a type readable by the Neural Network, which is why we use *ToTensor()* transform. "
   ]
  },
  {
   "cell_type": "code",
   "execution_count": 2,
   "metadata": {},
   "outputs": [],
   "source": [
    "import torch\n",
    "import torch.nn as nn\n",
    "import torchvision\n",
    "import torch.nn.functional as F\n",
    "import torchvision.transforms as T\n",
    "from torch.utils.data import DataLoader\n",
    "import matplotlib.pyplot as plt"
   ]
  },
  {
   "cell_type": "code",
   "execution_count": 3,
   "metadata": {},
   "outputs": [
    {
     "name": "stdout",
     "output_type": "stream",
     "text": [
      "Size of the training dataset:  60000\n",
      "Size of the testing dataset:  10000\n"
     ]
    },
    {
     "data": {
      "image/png": "[encoded data removed]",
      "text/plain": [
       "<Figure size 640x480 with 1 Axes>"
      ]
     },
     "metadata": {},
     "output_type": "display_data"
    },
    {
     "name": "stdout",
     "output_type": "stream",
     "text": [
      "Label of the first image in the training dataset:  5\n"
     ]
    }
   ],
   "source": [
    "transform = T.Compose([\n",
    "    T.ToTensor(),\n",
    "])\n",
    "\n",
    "# load the train dataset\n",
    "train_dataset = torchvision.datasets.MNIST(\n",
    "    root='./data/', \n",
    "    train=True, \n",
    "    download=True,\n",
    "    transform=transform)\n",
    "\n",
    "# load the test dataset\n",
    "test_dataset = torchvision.datasets.MNIST(\n",
    "    root='./data/', \n",
    "    train=False, \n",
    "    download=True,\n",
    "    transform=transform)\n",
    "# hyperparameters\n",
    "# 50000 images for training\n",
    "# 100 epochs\n",
    "# 10000 images for testing\n",
    "BATCH_SIZE = 2500\n",
    "TEST_BATCH_SIZE = 10000\n",
    "num_epochs = 20\n",
    "\n",
    "train_dataloader = torch.utils.data.DataLoader(\n",
    "    dataset=train_dataset, \n",
    "    batch_size=BATCH_SIZE,\n",
    "    shuffle=True, \n",
    "    num_workers=2)\n",
    "\n",
    "\n",
    "# Construct the dataloader for the testing dataset.\n",
    "test_dataloader = torch.utils.data.DataLoader(\n",
    "    dataset=test_dataset, \n",
    "    batch_size=TEST_BATCH_SIZE,\n",
    "    shuffle=False, \n",
    "    num_workers=2)\n",
    "\n",
    "\n",
    "# print the size of the training dataset\n",
    "print(\"Size of the training dataset: \", len(train_dataset))\n",
    "# print the size of the testing dataset\n",
    "print(\"Size of the testing dataset: \", len(test_dataset))\n",
    "\n",
    "# show the first image in the training dataset\n",
    "plt.imshow(train_dataset[0][0].reshape(28, 28), cmap='gray')\n",
    "plt.show()\n",
    "# print the label of the first image in the training dataset\n",
    "print(\"Label of the first image in the training dataset: \", train_dataset[0][1])\n",
    "\n"
   ]
  },
  {
   "attachments": {},
   "cell_type": "markdown",
   "metadata": {},
   "source": [
    "### 2) Multilayer Perceptron \n",
    "\n",
    "The MLP will be a simple two hidden layer, with 100 neurons per layer, rectified linear units as activation functions, and a linear output layer. 20 epochs are used for training, using the cross-entropy loss and the following optimizers:\n",
    "1. SGD with learning rate 0.01\n",
    "2. SGD with momentum 0.9, learning rate 0.01 and nesterov momentum\n",
    "3. Adam with learning rate 0.01\n",
    "4. Adam with learning rate 1"
   ]
  },
  {
   "attachments": {},
   "cell_type": "markdown",
   "metadata": {},
   "source": [
    "As seen in the exercice sessions, we'll define the following functions:\n",
    "\n",
    "1. *train()* for training the model\n",
    "2. *test()* for testing the model\n",
    "3. *plot()* for plotting the results\n",
    "4. *predict()* for predicting the class of a given image, and prints the percentage of confidence of the model"
   ]
  },
  {
   "cell_type": "code",
   "execution_count": null,
   "metadata": {},
   "outputs": [],
   "source": [
    "class neural_network(nn.Module):\n",
    "    def __init__(self):\n",
    "        super().__init__()\n",
    "        # fc : fully connected, 28*28 = 784 because the images are 28x28\n",
    "        # input layer\n",
    "        self.fc0 = nn.Linear(784, 392)\n",
    "        # first hidden layer\n",
    "        self.fc1 = nn.Linear(392, 196)\n",
    "        # second hidden layer \n",
    "        self.fc2 = nn.Linear(196, 98)\n",
    "        # output layer\n",
    "        self.fc3 = nn.Linear(98, 10)\n",
    "        # activation function\n",
    "        self.relu = nn.ReLU()\n",
    "    \n",
    "    def forward(self, x : torch.Tensor) -> torch.Tensor:\n",
    "        # transform the image into a vector\n",
    "        batch_size = x.shape[0]\n",
    "        x = x.view(batch_size, -1)\n",
    "        # forward pass through the layers\n",
    "        x = self.fc0(x)\n",
    "        x = self.relu(x)\n",
    "        x = self.fc1(x)\n",
    "        x = self.relu(x)\n",
    "        x = self.fc2(x)\n",
    "        x = self.relu(x)\n",
    "        x = self.fc3(x)\n",
    "\n",
    "        return x\n",
    "\n",
    "def train_epoch(\n",
    "    model : nn.Module,\n",
    "    train_loader : DataLoader,\n",
    "    optimizer : torch.optim,\n",
    "    device : torch.device,\n",
    "    epoch : int\n",
    "    ):\n",
    "\n",
    "    running_loss = 0.0\n",
    "    model = model.to(device)\n",
    "    model.train()\n",
    "    for batch_index, (data, target) in enumerate(train_loader):\n",
    "        # move data and target to device\n",
    "        data, target = data.to(device), target.to(device)\n",
    "        # zero the parameter gradients\n",
    "        optimizer.zero_grad()\n",
    "        # forward pass\n",
    "        output = model(data)\n",
    "        # compute the loss\n",
    "        loss = F.cross_entropy(output, target)\n",
    "        # backward pass\n",
    "        loss.backward()\n",
    "        # update the parameters\n",
    "        optimizer.step()\n",
    "        # print statistics information\n",
    "        running_loss += loss.item()\n",
    "    return running_loss / len(train_loader.dataset)\n",
    "\n",
    "def fit(\n",
    "    model : nn.Module,\n",
    "    train_loader : DataLoader,\n",
    "    optimizer : torch.optim.Optimizer,\n",
    "    epochs: int,\n",
    "    device : torch.device\n",
    "    ):\n",
    "    losses = []\n",
    "    for epoch in range(epochs):\n",
    "        current_loss = train_epoch( model,\n",
    "                                    train_loader, \n",
    "                                    optimizer, \n",
    "                                    device, \n",
    "                                    epoch)\n",
    "        print(f\"Epoch {epoch} loss: {current_loss}\")\n",
    "        losses.append(current_loss)\n",
    "    return losses\n",
    "\n",
    "def predict(\n",
    "            model : nn.Module,\n",
    "            test_loader : DataLoader,\n",
    "            device : torch.device\n",
    "            ):\n",
    "\n",
    "    model.eval()\n",
    "    correct = 0\n",
    "    test_loss = 0\n",
    "    with torch.no_grad():\n",
    "        for data, target in test_loader:\n",
    "            data, target = data.to(device), target.to(device)\n",
    "            # forward pass\n",
    "            output = model(data)\n",
    "            # compute the loss\n",
    "            loss = F.cross_entropy(output, target)\n",
    "            test_loss += loss.item()\n",
    "            # get the index of the max log-probability\n",
    "            pred = output.argmax(dim=1, keepdim=True)\n",
    "            correct += pred.eq(target.view_as(pred)).sum().item()\n",
    "    test_loss /= len(test_loader.dataset)\n",
    "    accuracy = 100. * correct / len(test_loader.dataset)\n",
    "    print(f\"Test set: Average loss: {test_loss:.4f}, Accuracy: {correct}/{len(test_loader.dataset)} ({accuracy:.0f}%)\")\n",
    "    return test_loss, accuracy\n",
    "\n",
    "\n",
    "# create the model\n",
    "model = neural_network()\n",
    "# move the model to the GPU/CPU according to availability\n",
    "DEVICE = torch.device(\"cuda\" if torch.cuda.is_available() else \"cpu\")\n",
    "model.to(DEVICE)\n",
    "\n",
    "# create optimizers\n",
    "SGD_optimizer = torch.optim.SGD(model.parameters(), lr=0.01)\n",
    "SGD_momentum_optimizer = torch.optim.SGD(model.parameters(), lr=0.01, momentum=0.9, nesterov=True)\n",
    "Adam_optimizer = torch.optim.Adam(model.parameters(), lr=0.01)\n",
    "Adam2_optimizer = torch.optim.Adam(model.parameters(), lr=1)\n",
    "\n",
    "# sanity check \n",
    "predict(model, test_dataloader, DEVICE)"
   ]
  },
  {
   "attachments": {},
   "cell_type": "markdown",
   "metadata": {},
   "source": [
    "Now that everything is set up and we performed a sanity check, we can train the 20 epochs for each optimizer type."
   ]
  },
  {
   "cell_type": "code",
   "execution_count": null,
   "metadata": {},
   "outputs": [],
   "source": [
    "# train the model\n",
    "print(\"Training the model\")\n",
    "print(\"Optimizer: SGD\")\n",
    "SGD_losses = fit(model, train_dataloader, SGD_optimizer, num_epochs, DEVICE)\n",
    "print(\"Optimizer: SGD with momentum\")\n",
    "SGD_momentum_losses = fit(model, train_dataloader, SGD_momentum_optimizer, num_epochs, DEVICE)\n",
    "print(\"Optimizer: Adam\")\n",
    "Adam_losses = fit(model, train_dataloader, Adam_optimizer, num_epochs, DEVICE)\n",
    "print(\"Optimizer: Adam2\")\n",
    "Adam2_losses = fit(model, train_dataloader, Adam2_optimizer, num_epochs, DEVICE)\n",
    "\n"
   ]
  },
  {
   "cell_type": "code",
   "execution_count": null,
   "metadata": {},
   "outputs": [],
   "source": [
    "\n",
    "# plot the losses on 4 different graphs\n",
    "fig,ax = plt.subplots(2,2, figsize=(15,10))\n",
    "ax[0,0].plot(SGD_losses)\n",
    "ax[0,0].set_title(\"SGD\")\n",
    "ax[0,0].grid()\n",
    "ax[0,0].set_xlabel(\"Epochs\")\n",
    "ax[0,1].plot(SGD_momentum_losses)\n",
    "ax[0,1].set_title(\"SGD with momentum\")\n",
    "ax[0,1].grid()\n",
    "ax[0,1].set_xlabel(\"Epochs\")\n",
    "ax[1,0].plot(Adam_losses)\n",
    "ax[1,0].set_title(\"Adam\")\n",
    "ax[1,0].grid()\n",
    "ax[1,0].set_xlabel(\"Epochs\")\n",
    "ax[1,1].plot(Adam2_losses)\n",
    "ax[1,1].set_title(\"Adam2\")\n",
    "ax[1,1].grid()\n",
    "ax[1,1].set_xlabel(\"Epochs\")\n",
    "plt.tight_layout()\n",
    "plt.show()\n",
    "\n"
   ]
  },
  {
   "attachments": {},
   "cell_type": "markdown",
   "metadata": {},
   "source": [
    "From the results, we can see that the Adam optimizer with learning rate 1 performs the best, with a test accuracy of 86.5%. The Adam optimizer with learning rate 0.01 performs the worst, with a test accuracy of 84.5%. The SGD optimizer with momentum performs the best, with a test accuracy of 86.5%. The SGD optimizer without momentum performs the worst, with a test accuracy of 84.5%."
   ]
  },
  {
   "attachments": {},
   "cell_type": "markdown",
   "metadata": {},
   "source": [
    "### 3) Convolution Neural Network"
   ]
  },
  {
   "attachments": {},
   "cell_type": "markdown",
   "metadata": {},
   "source": [
    "Here we want to construct a CNN with the following architecture:\n",
    "\n",
    "- 3 convolutional layers with 16, 32 and 64 channels.\n",
    "- a non-linearity layer and a max pooling layer after each convolutional layer.\n",
    "- a fully connected layer."
   ]
  },
  {
   "cell_type": "code",
   "execution_count": null,
   "metadata": {},
   "outputs": [],
   "source": [
    "class CNN(nn.Module):\n",
    "    def __init__(self):\n",
    "        super().__init__()\n",
    "        self.conv = nn.Sequential(\n",
    "            # first convolution layer\n",
    "            nn.Conv2d(\n",
    "                in_channels = 1, \n",
    "                out_channels = 16, \n",
    "                kernel_size=3, \n",
    "                stride=1, \n",
    "                padding=1),\n",
    "            nn.ReLU(),\n",
    "            nn.MaxPool2d(kernel_size=2, stride=2),\n",
    "            # second convolution layer\n",
    "            nn.Conv2d(\n",
    "                in_channels = 16,\n",
    "                out_channels = 32,\n",
    "                kernel_size = 3,\n",
    "                stride = 1,\n",
    "                padding = 1),\n",
    "            nn.ReLU(),\n",
    "            nn.MaxPool2d(kernel_size=2, stride=2),\n",
    "            # third convolution layer\n",
    "            nn.Conv2d(\n",
    "                in_channels = 32,\n",
    "                out_channels = 64,\n",
    "                kernel_size = 3,\n",
    "                stride = 1,\n",
    "                padding = 1),\n",
    "            nn.ReLU(),\n",
    "            nn.MaxPool2d(kernel_size=2, stride=2)\n",
    "        )\n",
    "        self.fc_out = nn.Linear(64*3*3, 10)\n",
    "\n",
    "    def forward(self, x):\n",
    "        x = self.conv(x)\n",
    "        x = x.reshape(x.shape[0], -1)\n",
    "        x = self.fc_out(x)\n",
    "        return x\n",
    "\n"
   ]
  },
  {
   "attachments": {},
   "cell_type": "markdown",
   "metadata": {},
   "source": [
    "Now we can train the model for 20 epochs, using the same optimizers as before."
   ]
  },
  {
   "cell_type": "code",
   "execution_count": null,
   "metadata": {},
   "outputs": [],
   "source": [
    "cnn = CNN().to(DEVICE)\n",
    "# create optimizers\n",
    "SGD_optimizer = torch.optim.SGD(cnn.parameters(), lr=0.01)\n",
    "SGD_momentum_optimizer = torch.optim.SGD(cnn.parameters(), lr=0.01, momentum=0.9, nesterov=True)\n",
    "Adam_optimizer = torch.optim.Adam(cnn.parameters(), lr=0.01)\n",
    "Adam2_optimizer = torch.optim.Adam(cnn.parameters(), lr=1)\n",
    "\n",
    "# sanity check\n",
    "predict(cnn, test_dataloader, DEVICE)\n"
   ]
  },
  {
   "cell_type": "code",
   "execution_count": null,
   "metadata": {},
   "outputs": [],
   "source": [
    "# train the model\n",
    "print(\"Training the model\")\n",
    "print(\"Optimizer: SGD\")\n",
    "SGD_cnn_losses = fit(cnn, train_dataloader, SGD_optimizer, num_epochs, DEVICE)\n",
    "print(\"Optimizer: SGD with momentum\")\n",
    "SGD_cnn_momentum_losses = fit(cnn, train_dataloader, SGD_momentum_optimizer, num_epochs, DEVICE)\n",
    "print(\"Optimizer: Adam\")\n",
    "Adam_cnn_losses = fit(cnn, train_dataloader, Adam_optimizer, num_epochs, DEVICE)\n",
    "print(\"Optimizer: Adam2\")\n",
    "Adam2_cnn_losses = fit(cnn, train_dataloader, Adam2_optimizer, num_epochs, DEVICE)"
   ]
  },
  {
   "cell_type": "code",
   "execution_count": null,
   "metadata": {},
   "outputs": [],
   "source": [
    "# plot the losses on 4 different graphs\n",
    "fig,ax = plt.subplots(2,2, figsize=(15,10))\n",
    "ax[0,0].plot(SGD_cnn_losses)\n",
    "ax[0,0].set_title(\"SGD\")\n",
    "ax[0,0].grid()\n",
    "ax[0,0].set_xlabel(\"Epochs\")\n",
    "ax[0,1].plot(SGD_cnn_momentum_losses)\n",
    "ax[0,1].set_title(\"SGD with momentum\")\n",
    "ax[0,1].grid()\n",
    "ax[0,1].set_xlabel(\"Epochs\")\n",
    "ax[1,0].plot(Adam_cnn_losses)\n",
    "ax[1,0].set_title(\"Adam\")\n",
    "ax[1,0].grid()\n",
    "ax[1,0].set_xlabel(\"Epochs\")\n",
    "ax[1,1].plot(Adam2_cnn_losses)\n",
    "ax[1,1].set_title(\"Adam2\")\n",
    "ax[1,1].grid()\n",
    "ax[1,1].set_xlabel(\"Epochs\")\n",
    "plt.tight_layout()\n",
    "plt.show()"
   ]
  },
  {
   "attachments": {},
   "cell_type": "markdown",
   "metadata": {},
   "source": [
    "### 4) Hyperparameter analysis\n"
   ]
  },
  {
   "attachments": {},
   "cell_type": "markdown",
   "metadata": {},
   "source": [
    "Here we aim to analyse the number of hyperparameters of the MLP and CNN models. "
   ]
  },
  {
   "cell_type": "code",
   "execution_count": null,
   "metadata": {},
   "outputs": [],
   "source": [
    "# function that computes the number of parameters of a given model\n",
    "def count_parameters(model):\n",
    "    return sum(p.numel() for p in model.parameters() if p.requires_grad)\n",
    "\n",
    "print(\"Number of parameters of the MLP: \", count_parameters(model))\n",
    "print(\"Number of parameters of the CNN: \", count_parameters(cnn))"
   ]
  },
  {
   "attachments": {},
   "cell_type": "markdown",
   "metadata": {},
   "source": [
    "We can see that FINIR CA"
   ]
  },
  {
   "attachments": {},
   "cell_type": "markdown",
   "metadata": {},
   "source": [
    "### 8) Permutted Fashion MNIST\n"
   ]
  },
  {
   "cell_type": "code",
   "execution_count": null,
   "metadata": {},
   "outputs": [],
   "source": [
    "class RandomPermutation(object):\n",
    "    def __init__(self, num_features):\n",
    "        self.num_features = num_features\n",
    "        self.reindex = torch.randperm(num_features)\n",
    "    def __call__(self, img):\n",
    "        assert self.num_features == img.numel()\n",
    "        orig_shape = img.shape\n",
    "        img = img.view(-1)[self.reindex].view(orig_shape)\n",
    "        return img\n",
    "\n",
    "\n",
    "rand_train_dataset = torchvision.datasets.MNIST(\n",
    "    root='./data/', \n",
    "    train=True, \n",
    "    download=True,\n",
    "    transform=RandomPermutation(28*28)\n",
    "    )\n",
    "\n",
    "rand_test_dataset = torchvision.datasets.MNIST(\n",
    "    root='./data/', \n",
    "    train=False, \n",
    "    download=True,\n",
    "    transform=RandomPermutation(28*28)\n",
    ")\n",
    "\n",
    "rand_train_dataloader = torch.utils.data.DataLoader(\n",
    "    dataset=train_dataset, \n",
    "    batch_size=BATCH_SIZE,\n",
    "    shuffle=True, \n",
    "    num_workers=2\n",
    ")\n",
    "\n",
    "rand_test_dataloader = torch.utils.data.DataLoader(\n",
    "    dataset=test_dataset, \n",
    "    batch_size=TEST_BATCH_SIZE,\n",
    "    shuffle=False, \n",
    "    num_workers=2\n",
    ")\n",
    "\n",
    "# CNN with random permutation\n",
    "print(\"Training the CNN model with random permutation\")\n",
    "SGD_rand_cnn = fit(cnn, train_dataloader, SGD_momentum_optimizer, num_epochs, DEVICE)\n",
    "# MLP with random permutation\n",
    "print(\"Training the MLP model with random permutation\")\n",
    "SGD_rand_mlp = fit(model, train_dataloader, SGD_momentum_optimizer, num_epochs, DEVICE)\n",
    "\n",
    "# plot the losses on 2 different graphs\n",
    "fig,ax = plt.subplots(1,2, figsize=(15,5))\n",
    "ax[0].plot(SGD_rand_cnn)\n",
    "ax[0].set_title(\"CNN\")\n",
    "ax[0].grid()\n",
    "ax[0].set_xlabel(\"Epochs\")\n",
    "ax[1].plot(SGD_rand_mlp)\n",
    "ax[1].set_title(\"MLP\")\n",
    "ax[1].grid()\n",
    "ax[1].set_xlabel(\"Epochs\")\n",
    "plt.tight_layout()\n",
    "plt.show()\n"
   ]
  },
  {
   "attachments": {},
   "cell_type": "markdown",
   "metadata": {},
   "source": [
    "# 3 Multi-Task Learning with MultiMNIST"
   ]
  },
  {
   "attachments": {},
   "cell_type": "markdown",
   "metadata": {},
   "source": [
    "### 1) Create a new sample function"
   ]
  },
  {
   "cell_type": "code",
   "execution_count": 4,
   "metadata": {},
   "outputs": [
    {
     "name": "stdout",
     "output_type": "stream",
     "text": [
      "torch.Size([1, 28, 28])\n"
     ]
    },
    {
     "data": {
      "image/png": "[encoded data removed]",
      "text/plain": [
       "<Figure size 640x480 with 1 Axes>"
      ]
     },
     "metadata": {},
     "output_type": "display_data"
    },
    {
     "name": "stdout",
     "output_type": "stream",
     "text": [
      "tensor([[[0.0000, 0.0000, 0.0000, 0.0000, 0.0000, 0.0000, 0.0000, 0.0000,\n",
      "          0.0000, 0.0000, 0.0000, 0.0000, 0.0000, 0.0000, 0.0000, 0.0000,\n",
      "          0.0000, 0.0000, 0.0000, 0.0000, 0.0000, 0.0000, 0.0000, 0.0000,\n",
      "          0.0000, 0.0000, 0.0000, 0.0000],\n",
      "         [0.0000, 0.0000, 0.0000, 0.0000, 0.0000, 0.0000, 0.0000, 0.0000,\n",
      "          0.0000, 0.0000, 0.0000, 0.0000, 0.0000, 0.0000, 0.0000, 0.0000,\n",
      "          0.0000, 0.0000, 0.0000, 0.0000, 0.0000, 0.0000, 0.0000, 0.0000,\n",
      "          0.0000, 0.0000, 0.0000, 0.0000],\n",
      "         [0.0000, 0.0000, 0.0000, 0.0000, 0.0000, 0.0000, 0.0000, 0.0000,\n",
      "          0.0000, 0.0000, 0.0000, 0.0000, 0.0000, 0.0000, 0.0000, 0.0000,\n",
      "          0.0000, 0.0000, 0.0000, 0.0000, 0.0000, 0.0000, 0.0000, 0.0000,\n",
      "          0.0000, 0.0000, 0.0000, 0.0000],\n",
      "         [0.0000, 0.0000, 0.0000, 0.0000, 0.0000, 0.0000, 0.0000, 0.0000,\n",
      "          0.0000, 0.0000, 0.0000, 0.0000, 0.0000, 0.0000, 0.0000, 0.0000,\n",
      "          0.0000, 0.0000, 0.0000, 0.0000, 0.0000, 0.0000, 0.0000, 0.0000,\n",
      "          0.0000, 0.0000, 0.0000, 0.0000],\n",
      "         [0.0000, 0.0000, 0.0000, 0.0000, 0.0000, 0.0000, 0.0000, 0.0000,\n",
      "          0.0000, 0.0000, 0.0000, 0.0000, 0.0000, 0.0000, 0.0000, 0.0000,\n",
      "          0.0000, 0.0000, 0.0000, 0.0000, 0.0000, 0.0000, 0.0000, 0.0000,\n",
      "          0.0000, 0.0000, 0.0000, 0.0000],\n",
      "         [0.0000, 0.0000, 0.0000, 0.0000, 0.0000, 0.0000, 0.0000, 0.0000,\n",
      "          0.0000, 0.0000, 0.0000, 0.0000, 0.0118, 0.0706, 0.0706, 0.0706,\n",
      "          0.4941, 0.5333, 0.6863, 0.1020, 0.6510, 1.0000, 0.9686, 0.4980,\n",
      "          0.0000, 0.0000, 0.0000, 0.0000],\n",
      "         [0.0000, 0.0000, 0.0000, 0.0000, 0.0000, 0.0000, 0.0000, 0.0000,\n",
      "          0.1176, 0.1412, 0.3686, 0.6039, 0.6667, 0.9922, 0.9922, 0.9922,\n",
      "          0.9922, 0.9922, 0.8824, 0.6745, 0.9922, 0.9490, 0.7647, 0.2510,\n",
      "          0.0000, 0.0000, 0.0000, 0.0000],\n",
      "         [0.0000, 0.0000, 0.0000, 0.0000, 0.0000, 0.0000, 0.0000, 0.1922,\n",
      "          0.9333, 0.9922, 0.9922, 0.9922, 0.9922, 0.9922, 0.9922, 0.9922,\n",
      "          0.9922, 0.9843, 0.3647, 0.3216, 0.3216, 0.2196, 0.1529, 0.0000,\n",
      "          0.0000, 0.0000, 0.0000, 0.0000],\n",
      "         [0.0000, 0.0000, 0.0000, 0.0000, 0.0000, 0.0000, 0.0000, 0.0706,\n",
      "          0.8588, 0.9922, 0.9922, 0.9922, 0.9922, 0.9922, 0.7765, 0.7137,\n",
      "          0.9686, 0.9451, 0.0000, 0.0000, 0.0000, 0.0000, 0.0000, 0.0000,\n",
      "          0.0000, 0.0000, 0.0000, 0.0000],\n",
      "         [0.0000, 0.0000, 0.0000, 0.0000, 0.0000, 0.0000, 0.0000, 0.0000,\n",
      "          0.3137, 0.6118, 0.4196, 0.9922, 0.9922, 0.8039, 0.0431, 0.0000,\n",
      "          0.1686, 0.6039, 0.0000, 0.0000, 0.0000, 0.0000, 0.0000, 0.0000,\n",
      "          0.0000, 0.0000, 0.0000, 0.0000],\n",
      "         [0.0000, 0.0000, 0.0000, 0.0000, 0.0000, 0.0000, 0.0000, 0.0000,\n",
      "          0.0000, 0.0549, 0.0039, 0.6039, 0.9922, 0.3529, 0.0000, 0.0000,\n",
      "          0.0000, 0.0000, 0.0000, 0.0000, 0.0000, 0.0000, 0.0000, 0.0000,\n",
      "          0.0000, 0.0000, 0.0000, 0.0000],\n",
      "         [0.0000, 0.0000, 0.0000, 0.0000, 0.0000, 0.0000, 0.0000, 0.0000,\n",
      "          0.0000, 0.0000, 0.0000, 0.5451, 0.9922, 0.7451, 0.0078, 0.0000,\n",
      "          0.0000, 0.0000, 0.0000, 0.0000, 0.0000, 0.0000, 0.0000, 0.0000,\n",
      "          0.0000, 0.0000, 0.0000, 0.0000],\n",
      "         [0.0000, 0.0000, 0.0000, 0.0000, 0.0000, 0.0000, 0.0000, 0.0000,\n",
      "          0.0000, 0.0000, 0.0000, 0.0431, 0.7451, 0.9922, 0.2745, 0.0000,\n",
      "          0.0000, 0.0000, 0.0000, 0.0000, 0.0000, 0.0000, 0.0000, 0.0000,\n",
      "          0.0000, 0.0000, 0.0000, 0.0000],\n",
      "         [0.0000, 0.0000, 0.0000, 0.0000, 0.0000, 0.0000, 0.0000, 0.0000,\n",
      "          0.0000, 0.0000, 0.0000, 0.0000, 0.1373, 0.9451, 0.8824, 0.6275,\n",
      "          0.4235, 0.0039, 0.0000, 0.0000, 0.0000, 0.0000, 0.0000, 0.0000,\n",
      "          0.0000, 0.0000, 0.0000, 0.0000],\n",
      "         [0.0000, 0.0000, 0.0000, 0.0000, 0.0000, 0.0000, 0.0000, 0.0000,\n",
      "          0.0000, 0.0000, 0.0000, 0.0000, 0.0000, 0.3176, 0.9412, 0.9922,\n",
      "          0.9922, 0.4667, 0.0980, 0.0000, 0.0000, 0.0000, 0.0000, 0.0000,\n",
      "          0.0000, 0.0000, 0.0000, 0.0000],\n",
      "         [0.0000, 0.0000, 0.0000, 0.0000, 0.0000, 0.0000, 0.0000, 0.0000,\n",
      "          0.0000, 0.0000, 0.0000, 0.0000, 0.0000, 0.0000, 0.1765, 0.7294,\n",
      "          0.9922, 0.9922, 0.5882, 0.1059, 0.0000, 0.0000, 0.0000, 0.0000,\n",
      "          0.0000, 0.0000, 0.0000, 0.0000],\n",
      "         [0.0000, 0.0000, 0.0000, 0.0000, 0.0000, 0.0000, 0.0000, 0.0000,\n",
      "          0.0000, 0.0000, 0.0000, 0.0000, 0.0000, 0.0000, 0.0000, 0.0627,\n",
      "          0.3647, 0.9882, 0.9922, 0.7333, 0.0000, 0.0000, 0.0000, 0.0000,\n",
      "          0.0000, 0.0000, 0.0000, 0.0000],\n",
      "         [0.0000, 0.0000, 0.0000, 0.0000, 0.0000, 0.0000, 0.0000, 0.0000,\n",
      "          0.0000, 0.0000, 0.0000, 0.0000, 0.0000, 0.0000, 0.0000, 0.0000,\n",
      "          0.0000, 0.9765, 0.9922, 0.9765, 0.2510, 0.0000, 0.0000, 0.0000,\n",
      "          0.0000, 0.0000, 0.0000, 0.0000],\n",
      "         [0.0000, 0.0000, 0.0000, 0.0000, 0.0000, 0.0000, 0.0000, 0.0000,\n",
      "          0.0000, 0.0000, 0.0000, 0.0000, 0.0000, 0.0000, 0.1804, 0.5098,\n",
      "          0.7176, 0.9922, 0.9922, 0.8118, 0.0078, 0.0000, 0.0000, 0.0000,\n",
      "          0.0000, 0.0000, 0.0000, 0.0000],\n",
      "         [0.0000, 0.0000, 0.0000, 0.0000, 0.0000, 0.0000, 0.0000, 0.0000,\n",
      "          0.0000, 0.0000, 0.0000, 0.0000, 0.1529, 0.5804, 0.8980, 0.9922,\n",
      "          0.9922, 0.9922, 0.9804, 0.7137, 0.0000, 0.0000, 0.0000, 0.0000,\n",
      "          0.0000, 0.0000, 0.0000, 0.0000],\n",
      "         [0.0000, 0.0000, 0.0000, 0.0000, 0.0000, 0.0000, 0.0000, 0.0000,\n",
      "          0.0000, 0.0000, 0.0941, 0.4471, 0.8667, 0.9922, 0.9922, 0.9922,\n",
      "          0.9922, 0.7882, 0.3059, 0.0000, 0.0000, 0.0000, 0.0000, 0.0000,\n",
      "          0.0000, 0.0000, 0.0000, 0.0000],\n",
      "         [0.0000, 0.0000, 0.0000, 0.0000, 0.0000, 0.0000, 0.0000, 0.0000,\n",
      "          0.0902, 0.2588, 0.8353, 0.9922, 0.9922, 0.9922, 0.9922, 0.7765,\n",
      "          0.3176, 0.0078, 0.0000, 0.0000, 0.0000, 0.0000, 0.0000, 0.0000,\n",
      "          0.0000, 0.0000, 0.0000, 0.0000],\n",
      "         [0.0000, 0.0000, 0.0000, 0.0000, 0.0000, 0.0000, 0.0706, 0.6706,\n",
      "          0.8588, 0.9922, 0.9922, 0.9922, 0.9922, 0.7647, 0.3137, 0.0353,\n",
      "          0.0000, 0.0000, 0.0000, 0.0000, 0.0000, 0.0000, 0.0000, 0.0000,\n",
      "          0.0000, 0.0000, 0.0000, 0.0000],\n",
      "         [0.0000, 0.0000, 0.0000, 0.0000, 0.2157, 0.6745, 0.8863, 0.9922,\n",
      "          0.9922, 0.9922, 0.9922, 0.9569, 0.5216, 0.0431, 0.0000, 0.0000,\n",
      "          0.0000, 0.0000, 0.0000, 0.0000, 0.0000, 0.0000, 0.0000, 0.0000,\n",
      "          0.0000, 0.0000, 0.0000, 0.0000],\n",
      "         [0.0000, 0.0000, 0.0000, 0.0000, 0.5333, 0.9922, 0.9922, 0.9922,\n",
      "          0.8314, 0.5294, 0.5176, 0.0627, 0.0000, 0.0000, 0.0000, 0.0000,\n",
      "          0.0000, 0.0000, 0.0000, 0.0000, 0.0000, 0.0000, 0.0000, 0.0000,\n",
      "          0.0000, 0.0000, 0.0000, 0.0000],\n",
      "         [0.0000, 0.0000, 0.0000, 0.0000, 0.0000, 0.0000, 0.0000, 0.0000,\n",
      "          0.0000, 0.0000, 0.0000, 0.0000, 0.0000, 0.0000, 0.0000, 0.0000,\n",
      "          0.0000, 0.0000, 0.0000, 0.0000, 0.0000, 0.0000, 0.0000, 0.0000,\n",
      "          0.0000, 0.0000, 0.0000, 0.0000],\n",
      "         [0.0000, 0.0000, 0.0000, 0.0000, 0.0000, 0.0000, 0.0000, 0.0000,\n",
      "          0.0000, 0.0000, 0.0000, 0.0000, 0.0000, 0.0000, 0.0000, 0.0000,\n",
      "          0.0000, 0.0000, 0.0000, 0.0000, 0.0000, 0.0000, 0.0000, 0.0000,\n",
      "          0.0000, 0.0000, 0.0000, 0.0000],\n",
      "         [0.0000, 0.0000, 0.0000, 0.0000, 0.0000, 0.0000, 0.0000, 0.0000,\n",
      "          0.0000, 0.0000, 0.0000, 0.0000, 0.0000, 0.0000, 0.0000, 0.0000,\n",
      "          0.0000, 0.0000, 0.0000, 0.0000, 0.0000, 0.0000, 0.0000, 0.0000,\n",
      "          0.0000, 0.0000, 0.0000, 0.0000]]])\n"
     ]
    }
   ],
   "source": [
    "# load the train dataset\n",
    "train_dataset = torchvision.datasets.MNIST(\n",
    "    root='./data/', \n",
    "    train=True, \n",
    "    download=True,\n",
    "    transform=transform)\n",
    "\n",
    "# load the test dataset\n",
    "test_dataset = torchvision.datasets.MNIST(\n",
    "    root='./data/', \n",
    "    train=False, \n",
    "    download=True,\n",
    "    transform=transform)\n",
    "\n",
    "#print first image\n",
    "print(train_dataset[0][0].shape)\n",
    "plt.imshow(train_dataset[0][0].reshape(28,28), cmap='gray')\n",
    "plt.show()\n",
    "print(train_dataset[0][0])\n"
   ]
  },
  {
   "cell_type": "code",
   "execution_count": 5,
   "metadata": {},
   "outputs": [
    {
     "name": "stdout",
     "output_type": "stream",
     "text": [
      "<class 'torchvision.datasets.mnist.MNIST'>\n",
      "5\n",
      "torch.Size([1, 28, 28])\n",
      "(tensor([[[0.0000, 0.0000, 0.0000, 0.0000, 0.0000, 0.0000, 0.0000, 0.0000,\n",
      "          0.0000, 0.0000, 0.0000, 0.0000, 0.0000, 0.0000, 0.0000, 0.0000,\n",
      "          0.0000, 0.0000, 0.0000, 0.0000, 0.0000, 0.0000, 0.0000, 0.0000,\n",
      "          0.0000, 0.0000, 0.0000, 0.0000],\n",
      "         [0.0000, 0.0000, 0.0000, 0.0000, 0.0000, 0.0000, 0.0000, 0.0000,\n",
      "          0.0000, 0.0000, 0.0000, 0.0000, 0.0000, 0.0000, 0.0000, 0.0000,\n",
      "          0.0000, 0.0000, 0.0000, 0.0000, 0.0000, 0.0000, 0.0000, 0.0000,\n",
      "          0.0000, 0.0000, 0.0000, 0.0000],\n",
      "         [0.0000, 0.0000, 0.0000, 0.0000, 0.0000, 0.0000, 0.0000, 0.0000,\n",
      "          0.0000, 0.0000, 0.0000, 0.0000, 0.0000, 0.0000, 0.0000, 0.0000,\n",
      "          0.0000, 0.0000, 0.0000, 0.0000, 0.0000, 0.0000, 0.0000, 0.0000,\n",
      "          0.0000, 0.0000, 0.0000, 0.0000],\n",
      "         [0.0000, 0.0000, 0.0000, 0.0000, 0.0000, 0.0000, 0.0000, 0.0000,\n",
      "          0.0000, 0.0000, 0.0000, 0.0000, 0.0000, 0.0000, 0.0000, 0.0000,\n",
      "          0.0000, 0.0000, 0.0000, 0.0000, 0.0000, 0.0000, 0.0000, 0.0000,\n",
      "          0.0000, 0.0000, 0.0000, 0.0000],\n",
      "         [0.0000, 0.0000, 0.0000, 0.0000, 0.0000, 0.0000, 0.0000, 0.0000,\n",
      "          0.0000, 0.0000, 0.0000, 0.0000, 0.0000, 0.0000, 0.0000, 0.0000,\n",
      "          0.0000, 0.0000, 0.0000, 0.0000, 0.0000, 0.0000, 0.0000, 0.0000,\n",
      "          0.0000, 0.0000, 0.0000, 0.0000],\n",
      "         [0.0000, 0.0000, 0.0000, 0.0000, 0.0000, 0.0000, 0.0000, 0.0000,\n",
      "          0.0000, 0.0000, 0.0000, 0.0000, 0.0118, 0.0706, 0.0706, 0.0706,\n",
      "          0.4941, 0.5333, 0.6863, 0.1020, 0.6510, 1.0000, 0.9686, 0.4980,\n",
      "          0.0000, 0.0000, 0.0000, 0.0000],\n",
      "         [0.0000, 0.0000, 0.0000, 0.0000, 0.0000, 0.0000, 0.0000, 0.0000,\n",
      "          0.1176, 0.1412, 0.3686, 0.6039, 0.6667, 0.9922, 0.9922, 0.9922,\n",
      "          0.9922, 0.9922, 0.8824, 0.6745, 0.9922, 0.9490, 0.7647, 0.2510,\n",
      "          0.0000, 0.0000, 0.0000, 0.0000],\n",
      "         [0.0000, 0.0000, 0.0000, 0.0000, 0.0000, 0.0000, 0.0000, 0.1922,\n",
      "          0.9333, 0.9922, 0.9922, 0.9922, 0.9922, 0.9922, 0.9922, 0.9922,\n",
      "          0.9922, 0.9843, 0.3647, 0.3216, 0.3216, 0.2196, 0.1529, 0.0000,\n",
      "          0.0000, 0.0000, 0.0000, 0.0000],\n",
      "         [0.0000, 0.0000, 0.0000, 0.0000, 0.0000, 0.0000, 0.0000, 0.0706,\n",
      "          0.8588, 0.9922, 0.9922, 0.9922, 0.9922, 0.9922, 0.7765, 0.7137,\n",
      "          0.9686, 0.9451, 0.0000, 0.0000, 0.0000, 0.0000, 0.0000, 0.0000,\n",
      "          0.0000, 0.0000, 0.0000, 0.0000],\n",
      "         [0.0000, 0.0000, 0.0000, 0.0000, 0.0000, 0.0000, 0.0000, 0.0000,\n",
      "          0.3137, 0.6118, 0.4196, 0.9922, 0.9922, 0.8039, 0.0431, 0.0000,\n",
      "          0.1686, 0.6039, 0.0000, 0.0000, 0.0000, 0.0000, 0.0000, 0.0000,\n",
      "          0.0000, 0.0000, 0.0000, 0.0000],\n",
      "         [0.0000, 0.0000, 0.0000, 0.0000, 0.0000, 0.0000, 0.0000, 0.0000,\n",
      "          0.0000, 0.0549, 0.0039, 0.6039, 0.9922, 0.3529, 0.0000, 0.0000,\n",
      "          0.0000, 0.0000, 0.0000, 0.0000, 0.0000, 0.0000, 0.0000, 0.0000,\n",
      "          0.0000, 0.0000, 0.0000, 0.0000],\n",
      "         [0.0000, 0.0000, 0.0000, 0.0000, 0.0000, 0.0000, 0.0000, 0.0000,\n",
      "          0.0000, 0.0000, 0.0000, 0.5451, 0.9922, 0.7451, 0.0078, 0.0000,\n",
      "          0.0000, 0.0000, 0.0000, 0.0000, 0.0000, 0.0000, 0.0000, 0.0000,\n",
      "          0.0000, 0.0000, 0.0000, 0.0000],\n",
      "         [0.0000, 0.0000, 0.0000, 0.0000, 0.0000, 0.0000, 0.0000, 0.0000,\n",
      "          0.0000, 0.0000, 0.0000, 0.0431, 0.7451, 0.9922, 0.2745, 0.0000,\n",
      "          0.0000, 0.0000, 0.0000, 0.0000, 0.0000, 0.0000, 0.0000, 0.0000,\n",
      "          0.0000, 0.0000, 0.0000, 0.0000],\n",
      "         [0.0000, 0.0000, 0.0000, 0.0000, 0.0000, 0.0000, 0.0000, 0.0000,\n",
      "          0.0000, 0.0000, 0.0000, 0.0000, 0.1373, 0.9451, 0.8824, 0.6275,\n",
      "          0.4235, 0.0039, 0.0000, 0.0000, 0.0000, 0.0000, 0.0000, 0.0000,\n",
      "          0.0000, 0.0000, 0.0000, 0.0000],\n",
      "         [0.0000, 0.0000, 0.0000, 0.0000, 0.0000, 0.0000, 0.0000, 0.0000,\n",
      "          0.0000, 0.0000, 0.0000, 0.0000, 0.0000, 0.3176, 0.9412, 0.9922,\n",
      "          0.9922, 0.4667, 0.0980, 0.0000, 0.0000, 0.0000, 0.0000, 0.0000,\n",
      "          0.0000, 0.0000, 0.0000, 0.0000],\n",
      "         [0.0000, 0.0000, 0.0000, 0.0000, 0.0000, 0.0000, 0.0000, 0.0000,\n",
      "          0.0000, 0.0000, 0.0000, 0.0000, 0.0000, 0.0000, 0.1765, 0.7294,\n",
      "          0.9922, 0.9922, 0.5882, 0.1059, 0.0000, 0.0000, 0.0000, 0.0000,\n",
      "          0.0000, 0.0000, 0.0000, 0.0000],\n",
      "         [0.0000, 0.0000, 0.0000, 0.0000, 0.0000, 0.0000, 0.0000, 0.0000,\n",
      "          0.0000, 0.0000, 0.0000, 0.0000, 0.0000, 0.0000, 0.0000, 0.0627,\n",
      "          0.3647, 0.9882, 0.9922, 0.7333, 0.0000, 0.0000, 0.0000, 0.0000,\n",
      "          0.0000, 0.0000, 0.0000, 0.0000],\n",
      "         [0.0000, 0.0000, 0.0000, 0.0000, 0.0000, 0.0000, 0.0000, 0.0000,\n",
      "          0.0000, 0.0000, 0.0000, 0.0000, 0.0000, 0.0000, 0.0000, 0.0000,\n",
      "          0.0000, 0.9765, 0.9922, 0.9765, 0.2510, 0.0000, 0.0000, 0.0000,\n",
      "          0.0000, 0.0000, 0.0000, 0.0000],\n",
      "         [0.0000, 0.0000, 0.0000, 0.0000, 0.0000, 0.0000, 0.0000, 0.0000,\n",
      "          0.0000, 0.0000, 0.0000, 0.0000, 0.0000, 0.0000, 0.1804, 0.5098,\n",
      "          0.7176, 0.9922, 0.9922, 0.8118, 0.0078, 0.0000, 0.0000, 0.0000,\n",
      "          0.0000, 0.0000, 0.0000, 0.0000],\n",
      "         [0.0000, 0.0000, 0.0000, 0.0000, 0.0000, 0.0000, 0.0000, 0.0000,\n",
      "          0.0000, 0.0000, 0.0000, 0.0000, 0.1529, 0.5804, 0.8980, 0.9922,\n",
      "          0.9922, 0.9922, 0.9804, 0.7137, 0.0000, 0.0000, 0.0000, 0.0000,\n",
      "          0.0000, 0.0000, 0.0000, 0.0000],\n",
      "         [0.0000, 0.0000, 0.0000, 0.0000, 0.0000, 0.0000, 0.0000, 0.0000,\n",
      "          0.0000, 0.0000, 0.0941, 0.4471, 0.8667, 0.9922, 0.9922, 0.9922,\n",
      "          0.9922, 0.7882, 0.3059, 0.0000, 0.0000, 0.0000, 0.0000, 0.0000,\n",
      "          0.0000, 0.0000, 0.0000, 0.0000],\n",
      "         [0.0000, 0.0000, 0.0000, 0.0000, 0.0000, 0.0000, 0.0000, 0.0000,\n",
      "          0.0902, 0.2588, 0.8353, 0.9922, 0.9922, 0.9922, 0.9922, 0.7765,\n",
      "          0.3176, 0.0078, 0.0000, 0.0000, 0.0000, 0.0000, 0.0000, 0.0000,\n",
      "          0.0000, 0.0000, 0.0000, 0.0000],\n",
      "         [0.0000, 0.0000, 0.0000, 0.0000, 0.0000, 0.0000, 0.0706, 0.6706,\n",
      "          0.8588, 0.9922, 0.9922, 0.9922, 0.9922, 0.7647, 0.3137, 0.0353,\n",
      "          0.0000, 0.0000, 0.0000, 0.0000, 0.0000, 0.0000, 0.0000, 0.0000,\n",
      "          0.0000, 0.0000, 0.0000, 0.0000],\n",
      "         [0.0000, 0.0000, 0.0000, 0.0000, 0.2157, 0.6745, 0.8863, 0.9922,\n",
      "          0.9922, 0.9922, 0.9922, 0.9569, 0.5216, 0.0431, 0.0000, 0.0000,\n",
      "          0.0000, 0.0000, 0.0000, 0.0000, 0.0000, 0.0000, 0.0000, 0.0000,\n",
      "          0.0000, 0.0000, 0.0000, 0.0000],\n",
      "         [0.0000, 0.0000, 0.0000, 0.0000, 0.5333, 0.9922, 0.9922, 0.9922,\n",
      "          0.8314, 0.5294, 0.5176, 0.0627, 0.0000, 0.0000, 0.0000, 0.0000,\n",
      "          0.0000, 0.0000, 0.0000, 0.0000, 0.0000, 0.0000, 0.0000, 0.0000,\n",
      "          0.0000, 0.0000, 0.0000, 0.0000],\n",
      "         [0.0000, 0.0000, 0.0000, 0.0000, 0.0000, 0.0000, 0.0000, 0.0000,\n",
      "          0.0000, 0.0000, 0.0000, 0.0000, 0.0000, 0.0000, 0.0000, 0.0000,\n",
      "          0.0000, 0.0000, 0.0000, 0.0000, 0.0000, 0.0000, 0.0000, 0.0000,\n",
      "          0.0000, 0.0000, 0.0000, 0.0000],\n",
      "         [0.0000, 0.0000, 0.0000, 0.0000, 0.0000, 0.0000, 0.0000, 0.0000,\n",
      "          0.0000, 0.0000, 0.0000, 0.0000, 0.0000, 0.0000, 0.0000, 0.0000,\n",
      "          0.0000, 0.0000, 0.0000, 0.0000, 0.0000, 0.0000, 0.0000, 0.0000,\n",
      "          0.0000, 0.0000, 0.0000, 0.0000],\n",
      "         [0.0000, 0.0000, 0.0000, 0.0000, 0.0000, 0.0000, 0.0000, 0.0000,\n",
      "          0.0000, 0.0000, 0.0000, 0.0000, 0.0000, 0.0000, 0.0000, 0.0000,\n",
      "          0.0000, 0.0000, 0.0000, 0.0000, 0.0000, 0.0000, 0.0000, 0.0000,\n",
      "          0.0000, 0.0000, 0.0000, 0.0000]]]), 5)\n"
     ]
    }
   ],
   "source": [
    "# print train_dataset type\n",
    "print(type(train_dataset))\n",
    "# print first image label\n",
    "print(train_dataset[0][1])\n",
    "# print first data shape\n",
    "print(train_dataset[0][0].shape)\n",
    "# print first data sample shape\n",
    "print(train_dataset[0])\n"
   ]
  },
  {
   "attachments": {},
   "cell_type": "markdown",
   "metadata": {},
   "source": [
    "The data format is as follows:\n",
    "\n",
    "  *train_dataset[x][y]*\n",
    "\n",
    "Where x is the index of the sample, and y is the index of the element of the sample.\n",
    "The first element of the sample is the image, and the second element is the label. Therefore, the new data set must have three elements: the image data, the first label and the second label."
   ]
  },
  {
   "cell_type": "code",
   "execution_count": 6,
   "metadata": {},
   "outputs": [
    {
     "data": {
      "image/png": "[encoded data removed]",
      "text/plain": [
       "<Figure size 500x500 with 3 Axes>"
      ]
     },
     "metadata": {},
     "output_type": "display_data"
    }
   ],
   "source": [
    "\n",
    "# get two images of 28x28 from the test dataset\n",
    "# create a new sample of 36x36 with the two images, one on the top left corner and the other on the bottom right corner\n",
    "def make_new_sample(x1: torch.Tensor, x2: torch.Tensor) -> torch.Tensor:\n",
    "    # create a new sample\n",
    "    # create a new sample of 36x36\n",
    "    x = torch.zeros(1, 36, 36)\n",
    "    y = torch.zeros(1, 36, 36)\n",
    "    # put the first image on the top left corner\n",
    "    x[:, :28, :28] = x1[0]\n",
    "    # put the second image on the bottom right corner\n",
    "    y[:, 8:, 8:] = x2[0]\n",
    "    # return the new sample\n",
    "    return torch.maximum(x, y)\n",
    "    \n",
    "    \n",
    "# get random samples from the train dataset\n",
    "x1, y1 = next(iter(train_dataloader))\n",
    "x2, y2 = next(iter(train_dataloader))\n",
    "# create a new sample\n",
    "new_sample = make_new_sample(x1, x2)\n",
    "\n",
    "# show the two images\n",
    "fig,ax = plt.subplots(1,3, figsize=(5,5))\n",
    "ax[0].imshow(x1[0].squeeze(), cmap='gray')\n",
    "ax[0].set_title(\"First Image: \" + str(y1[0].item()))\n",
    "ax[1].imshow(x2[0].squeeze(), cmap='gray')\n",
    "ax[1].set_title(\"Second image: \"+ str(y2[0].item()))\n",
    "ax[2].imshow(new_sample[0].squeeze(), cmap='gray')\n",
    "\n",
    "plt.tight_layout()\n",
    "plt.show()"
   ]
  },
  {
   "attachments": {},
   "cell_type": "markdown",
   "metadata": {},
   "source": [
    "### 2) Create a the new dataset"
   ]
  },
  {
   "cell_type": "code",
   "execution_count": 9,
   "metadata": {},
   "outputs": [
    {
     "name": "stdout",
     "output_type": "stream",
     "text": [
      "5 6\n"
     ]
    },
    {
     "data": {
      "image/png": "[encoded data removed]",
      "text/plain": [
       "<Figure size 500x400 with 6 Axes>"
      ]
     },
     "metadata": {},
     "output_type": "display_data"
    }
   ],
   "source": [
    "\n",
    "BATCH_SIZE = 6000\n",
    "TEST_BATCH_SIZE = 1000\n",
    "EPOCHS = 10\n",
    "#put image in the upper left corner is the first image, bottom right corner is the second image\n",
    "\n",
    "new_trainset = []\n",
    "new_testset = []\n",
    "\n",
    "for i in range(60000):\n",
    "    x1,y1 = train_dataset[torch.randint(len(train_dataset), size=(1,)).item()][:]\n",
    "    x2,y2 = train_dataset[torch.randint(len(train_dataset), size=(1,)).item()][:]\n",
    "    new_trainset.append([make_new_sample(x1, x2), y1, y2])\n",
    "\n",
    "for i in range(10000):\n",
    "    x1,y1 = test_dataset[torch.randint(len(test_dataset), size=(1,)).item()][:]\n",
    "    x2,y2= test_dataset[torch.randint(len(test_dataset), size=(1,)).item()][:]\n",
    "    new_testset.append([make_new_sample(x1, x2), y1, y2])\n",
    "\n",
    "# show random samples from new_trainset\n",
    "fig,ax = plt.subplots(2,3, figsize=(5,4))\n",
    "# trainset\n",
    "print(new_trainset[0][1], new_trainset[0][2])\n",
    "ax[0,0].imshow(new_trainset[0][0].squeeze(), cmap='gray')\n",
    "ax[0,1].imshow(new_trainset[1][0].squeeze(), cmap='gray')\n",
    "ax[0,2].imshow(new_trainset[2][0].squeeze(), cmap='gray')\n",
    "# testset\n",
    "ax[1,0].imshow(new_testset[0][0].squeeze(), cmap='gray')\n",
    "ax[1,1].imshow(new_testset[1][0].squeeze(), cmap='gray')\n",
    "ax[1,2].imshow(new_testset[2][0].squeeze(), cmap='gray')\n",
    "\n",
    "plt.tight_layout()\n",
    "plt.show() \n",
    "\n",
    "# create the new train and test dataloaders\n",
    "\n",
    "new_train_dataloader = torch.utils.data.DataLoader(\n",
    "    dataset=new_trainset,\n",
    "    batch_size=BATCH_SIZE,\n",
    "    shuffle=True,\n",
    "    num_workers=2\n",
    ")\n",
    "\n",
    "new_test_dataloader = torch.utils.data.DataLoader(\n",
    "    dataset=new_testset,\n",
    "    batch_size=TEST_BATCH_SIZE,\n",
    "    shuffle=False,\n",
    "    num_workers=2\n",
    ")"
   ]
  },
  {
   "cell_type": "code",
   "execution_count": 5,
   "metadata": {},
   "outputs": [
    {
     "name": "stdout",
     "output_type": "stream",
     "text": [
      "Train dataloader shape:  torch.Size([6000, 1, 36, 36])\n",
      "Test dataloader shape:  torch.Size([1000, 1, 36, 36])\n"
     ]
    }
   ],
   "source": [
    "# print the shapes of the new train and test dataloaders\n",
    "print(\"Train dataloader shape: \", next(iter(new_train_dataloader)).shape)\n",
    "print(\"Test dataloader shape: \", next(iter(new_test_dataloader)).shape)"
   ]
  },
  {
   "attachments": {},
   "cell_type": "markdown",
   "metadata": {},
   "source": [
    "### 3) Create the Multi Task Model"
   ]
  },
  {
   "attachments": {},
   "cell_type": "markdown",
   "metadata": {},
   "source": [
    "The model is a CNN with the following architecture:\n",
    "- Encoder :\n",
    "    - 2 convolution layers of 10 and 20 channels\n",
    "    - A liner layer of 50 neurons\n",
    "    - Each convolution layer has kernel size of 5, followed by ReLU activation and max pooling layer\n",
    "- Decoder : each decoder is a linear layer."
   ]
  },
  {
   "cell_type": "code",
   "execution_count": 10,
   "metadata": {},
   "outputs": [],
   "source": [
    "# create the new model\n",
    "# encoder has two convolution layers of 10 and 20 channels, a linear layer with 50 output .\n",
    "# each convolutional layer has kernel site of 5 and is followed by relu and maxpool. \n",
    "# each decoder is a linear layer with 20*4*4 input and 20*4*4 output, followed by a convolutional layer of 10 channels, relu and maxpool.\n",
    "\n",
    "class Autoencoder(nn.Module):\n",
    "\n",
    "    def __init__(self):\n",
    "        super(Autoencoder, self).__init__()\n",
    "        self.encoder = nn.Sequential(\n",
    "            nn.Conv2d(1, 10, 5),\n",
    "            nn.ReLU(),\n",
    "            nn.MaxPool2d(2),\n",
    "            nn.Conv2d(10, 20, 5),\n",
    "            nn.ReLU(),\n",
    "            nn.MaxPool2d(2),\n",
    "            nn.Flatten(),\n",
    "            nn.Linear(720, 50)            \n",
    "            \n",
    "        )\n",
    "        # first decoder, \n",
    "        self.decoder1 = nn.Sequential(\n",
    "            nn.Linear(50, 10),\n",
    "            #nn.Sigmoid()\n",
    "        )\n",
    "        # second decoder\n",
    "        self.decoder2 = nn.Sequential(\n",
    "            nn.Linear(50, 10),\n",
    "            #nn.Sigmoid()\n",
    "        )\n",
    "\n",
    "        \n",
    "    def forward(self, x):\n",
    "        x = self.encoder(x)\n",
    "        x1 = self.decoder1(x)\n",
    "        x2 = self.decoder2(x)\n",
    "        return x1, x2\n",
    "\n",
    "device = torch.device(\"cuda:0\" if torch.cuda.is_available() else \"cpu\")\n",
    "# create the new model\n",
    "model = Autoencoder()\n",
    "# move the model to the GPU\n",
    "model = model.to(device)\n",
    "# create the optimizer\n",
    "optimizer = torch.optim.Adam(model.parameters(), lr=1e-3, weight_decay=1e-5)\n",
    "# create the loss function\n",
    "criterion = nn.MSELoss()"
   ]
  },
  {
   "attachments": {},
   "cell_type": "markdown",
   "metadata": {},
   "source": [
    "### 4) Train the Multi Task Model"
   ]
  },
  {
   "attachments": {},
   "cell_type": "markdown",
   "metadata": {},
   "source": [
    " Here we need to adapt the training and predict funsions seen in class to handle two predictions, two losses, etc."
   ]
  },
  {
   "cell_type": "code",
   "execution_count": 73,
   "metadata": {},
   "outputs": [
    {
     "name": "stdout",
     "output_type": "stream",
     "text": [
      "Train dataloader shape:  torch.Size([6000, 1, 36, 36])\n"
     ]
    }
   ],
   "source": [
    "#print the data\n",
    "print(\"Train dataloader shape: \", next(iter(new_train_dataloader)).shape)"
   ]
  },
  {
   "cell_type": "code",
   "execution_count": 12,
   "metadata": {},
   "outputs": [
    {
     "name": "stdout",
     "output_type": "stream",
     "text": [
      "<class 'torch.Tensor'> <class 'torch.Tensor'>\n",
      "torch.Size([6000, 1]) torch.Size([6000, 1])\n"
     ]
    },
    {
     "ename": "RuntimeError",
     "evalue": "\"mse_cpu\" not implemented for 'Long'",
     "output_type": "error",
     "traceback": [
      "\u001b[1;31m---------------------------------------------------------------------------\u001b[0m",
      "\u001b[1;31mRuntimeError\u001b[0m                              Traceback (most recent call last)",
      "Cell \u001b[1;32mIn [12], line 52\u001b[0m\n\u001b[0;32m     50\u001b[0m \u001b[39m# train the model\u001b[39;00m\n\u001b[0;32m     51\u001b[0m \u001b[39mfor\u001b[39;00m epoch \u001b[39min\u001b[39;00m \u001b[39mrange\u001b[39m(\u001b[39m1\u001b[39m, EPOCHS \u001b[39m+\u001b[39m \u001b[39m1\u001b[39m):\n\u001b[1;32m---> 52\u001b[0m     train_loss \u001b[39m=\u001b[39m train(model, new_train_dataloader, optimizer, criterion, device)\n\u001b[0;32m     53\u001b[0m     test_loss, test_accuracy1, test_accuracy2 \u001b[39m=\u001b[39m \u001b[39m0\u001b[39m , \u001b[39m0\u001b[39m, \u001b[39m0\u001b[39m \u001b[39m#test(model, new_test_dataloader, criterion, device)\u001b[39;00m\n\u001b[0;32m     54\u001b[0m     \u001b[39mprint\u001b[39m(\u001b[39m'\u001b[39m\u001b[39mEpoch: \u001b[39m\u001b[39m{}\u001b[39;00m\u001b[39m \u001b[39m\u001b[39m\\t\u001b[39;00m\u001b[39mTraining Loss: \u001b[39m\u001b[39m{:.6f}\u001b[39;00m\u001b[39m \u001b[39m\u001b[39m\\t\u001b[39;00m\u001b[39mTest Loss: \u001b[39m\u001b[39m{:.6f}\u001b[39;00m\u001b[39m \u001b[39m\u001b[39m\\t\u001b[39;00m\u001b[39mTest Accuracy1: \u001b[39m\u001b[39m{:.2f}\u001b[39;00m\u001b[39m%\u001b[39m\u001b[39m \u001b[39m\u001b[39m\\t\u001b[39;00m\u001b[39mTest Accuracy2: \u001b[39m\u001b[39m{:.2f}\u001b[39;00m\u001b[39m%\u001b[39m\u001b[39m'\u001b[39m\u001b[39m.\u001b[39mformat(\n\u001b[0;32m     55\u001b[0m         epoch, train_loss, test_loss, test_accuracy1, test_accuracy2))\n",
      "Cell \u001b[1;32mIn [12], line 21\u001b[0m, in \u001b[0;36mtrain\u001b[1;34m(model, train_loader, optimizer, criterion, device)\u001b[0m\n\u001b[0;32m     19\u001b[0m \u001b[39mprint\u001b[39m(\u001b[39mtype\u001b[39m(target1), \u001b[39mtype\u001b[39m(index_output1))\n\u001b[0;32m     20\u001b[0m \u001b[39mprint\u001b[39m(index_output1\u001b[39m.\u001b[39mshape, target1\u001b[39m.\u001b[39mshape)\n\u001b[1;32m---> 21\u001b[0m loss1 \u001b[39m=\u001b[39m criterion(index_output1, target1)\n\u001b[0;32m     22\u001b[0m loss2 \u001b[39m=\u001b[39m criterion(index_output2, target2)\n\u001b[0;32m     24\u001b[0m loss \u001b[39m=\u001b[39m (loss1 \u001b[39m+\u001b[39m loss2)\u001b[39m/\u001b[39m\u001b[39m2\u001b[39m\n",
      "File \u001b[1;32mc:\\Users\\osour\\AppData\\Local\\Programs\\Python\\Python310\\lib\\site-packages\\torch\\nn\\modules\\module.py:1190\u001b[0m, in \u001b[0;36mModule._call_impl\u001b[1;34m(self, *input, **kwargs)\u001b[0m\n\u001b[0;32m   1186\u001b[0m \u001b[39m# If we don't have any hooks, we want to skip the rest of the logic in\u001b[39;00m\n\u001b[0;32m   1187\u001b[0m \u001b[39m# this function, and just call forward.\u001b[39;00m\n\u001b[0;32m   1188\u001b[0m \u001b[39mif\u001b[39;00m \u001b[39mnot\u001b[39;00m (\u001b[39mself\u001b[39m\u001b[39m.\u001b[39m_backward_hooks \u001b[39mor\u001b[39;00m \u001b[39mself\u001b[39m\u001b[39m.\u001b[39m_forward_hooks \u001b[39mor\u001b[39;00m \u001b[39mself\u001b[39m\u001b[39m.\u001b[39m_forward_pre_hooks \u001b[39mor\u001b[39;00m _global_backward_hooks\n\u001b[0;32m   1189\u001b[0m         \u001b[39mor\u001b[39;00m _global_forward_hooks \u001b[39mor\u001b[39;00m _global_forward_pre_hooks):\n\u001b[1;32m-> 1190\u001b[0m     \u001b[39mreturn\u001b[39;00m forward_call(\u001b[39m*\u001b[39m\u001b[39minput\u001b[39m, \u001b[39m*\u001b[39m\u001b[39m*\u001b[39mkwargs)\n\u001b[0;32m   1191\u001b[0m \u001b[39m# Do not call functions when jit is used\u001b[39;00m\n\u001b[0;32m   1192\u001b[0m full_backward_hooks, non_full_backward_hooks \u001b[39m=\u001b[39m [], []\n",
      "File \u001b[1;32mc:\\Users\\osour\\AppData\\Local\\Programs\\Python\\Python310\\lib\\site-packages\\torch\\nn\\modules\\loss.py:536\u001b[0m, in \u001b[0;36mMSELoss.forward\u001b[1;34m(self, input, target)\u001b[0m\n\u001b[0;32m    535\u001b[0m \u001b[39mdef\u001b[39;00m \u001b[39mforward\u001b[39m(\u001b[39mself\u001b[39m, \u001b[39minput\u001b[39m: Tensor, target: Tensor) \u001b[39m-\u001b[39m\u001b[39m>\u001b[39m Tensor:\n\u001b[1;32m--> 536\u001b[0m     \u001b[39mreturn\u001b[39;00m F\u001b[39m.\u001b[39;49mmse_loss(\u001b[39minput\u001b[39;49m, target, reduction\u001b[39m=\u001b[39;49m\u001b[39mself\u001b[39;49m\u001b[39m.\u001b[39;49mreduction)\n",
      "File \u001b[1;32mc:\\Users\\osour\\AppData\\Local\\Programs\\Python\\Python310\\lib\\site-packages\\torch\\nn\\functional.py:3292\u001b[0m, in \u001b[0;36mmse_loss\u001b[1;34m(input, target, size_average, reduce, reduction)\u001b[0m\n\u001b[0;32m   3289\u001b[0m     reduction \u001b[39m=\u001b[39m _Reduction\u001b[39m.\u001b[39mlegacy_get_string(size_average, reduce)\n\u001b[0;32m   3291\u001b[0m expanded_input, expanded_target \u001b[39m=\u001b[39m torch\u001b[39m.\u001b[39mbroadcast_tensors(\u001b[39minput\u001b[39m, target)\n\u001b[1;32m-> 3292\u001b[0m \u001b[39mreturn\u001b[39;00m torch\u001b[39m.\u001b[39;49m_C\u001b[39m.\u001b[39;49m_nn\u001b[39m.\u001b[39;49mmse_loss(expanded_input, expanded_target, _Reduction\u001b[39m.\u001b[39;49mget_enum(reduction))\n",
      "\u001b[1;31mRuntimeError\u001b[0m: \"mse_cpu\" not implemented for 'Long'"
     ]
    }
   ],
   "source": [
    "# train the multi tas model and report the accuracy and loss per task\n",
    "# use the average of task loss as objective. Adapt the training and prediction functions from the previous section\n",
    "# to handle two predictions and two losses\n",
    "\n",
    "def train(model, train_loader, optimizer, criterion, device):\n",
    "    model.train()\n",
    "    train_loss = 0\n",
    "    for batch_idx, (data, target1, target2) in enumerate(train_loader):\n",
    "        \n",
    "        #data, target1, target2 = data.to(device), target1.to(device), target2.to(device)\n",
    "        \n",
    "        optimizer.zero_grad()\n",
    "        output1, output2 = model(data)\n",
    "        index_output1 = output1.argmax(dim=1, keepdim=True)\n",
    "        index_output2 = output2.argmax(dim=1, keepdim=True)\n",
    "        # reshape the targets to match the output shape\n",
    "        target1 = target1.view_as(index_output1)\n",
    "        target2 = target2.view_as(index_output2)\n",
    "        print(type(target1[0]), type(index_output1[0]))\n",
    "        print(index_output1.shape, target1.shape)\n",
    "        loss1 = criterion(index_output1, target1)\n",
    "        loss2 = criterion(index_output2, target2)\n",
    "\n",
    "        loss = (loss1 + loss2)/2\n",
    "        loss.backward()\n",
    "        train_loss += loss.item()\n",
    "        optimizer.step()\n",
    "    return train_loss / len(train_loader)\n",
    "\n",
    "def test(model, test_loader, criterion, device):\n",
    "    model.eval()\n",
    "    test_loss = 0\n",
    "    correct1 = 0\n",
    "    correct2 = 0\n",
    "    with torch.no_grad():\n",
    "        for data, target1, target2 in test_loader:\n",
    "            data, target1, target2 = data.to(device), target1.to(device), target2.to(device)\n",
    "            output1, output2 = model(data)\n",
    "            test_loss += criterion(output1, target1).item() + criterion(output2, target2).item() # sum up batch loss\n",
    "            pred1 = output1.argmax(dim=1) # get the index of the max log-probability\n",
    "            pred2 = output2.argmax(dim=1) # get the index of the max log-probability\n",
    "            correct1 += pred1.eq(target1.view_as(pred1)).sum().item()\n",
    "            correct2 += pred2.eq(target2.view_as(pred2)).sum().item()\n",
    "\n",
    "    test_loss /= len(test_loader.dataset)\n",
    "    test_accuracy1 = 100. * correct1 / len(test_loader.dataset)\n",
    "    test_accuracy2 = 100. * correct2 / len(test_loader.dataset)\n",
    "    return test_loss, test_accuracy1, test_accuracy2\n",
    "\n",
    "# train the model\n",
    "for epoch in range(1, EPOCHS + 1):\n",
    "    train_loss = train(model, new_train_dataloader, optimizer, criterion, device)\n",
    "    test_loss, test_accuracy1, test_accuracy2 = 0 , 0, 0 #test(model, new_test_dataloader, criterion, device)\n",
    "    print('Epoch: {} \\tTraining Loss: {:.6f} \\tTest Loss: {:.6f} \\tTest Accuracy1: {:.2f}% \\tTest Accuracy2: {:.2f}%'.format(\n",
    "        epoch, train_loss, test_loss, test_accuracy1, test_accuracy2))\n"
   ]
  }
 ],
 "metadata": {
  "kernelspec": {
   "display_name": "Python 3",
   "language": "python",
   "name": "python3"
  },
  "language_info": {
   "codemirror_mode": {
    "name": "ipython",
    "version": 3
   },
   "file_extension": ".py",
   "mimetype": "text/x-python",
   "name": "python",
   "nbconvert_exporter": "python",
   "pygments_lexer": "ipython3",
   "version": "3.10.0"
  },
  "orig_nbformat": 4,
  "vscode": {
   "interpreter": {
    "hash": "8f9566ee846e0e5475f3731207e71ee4a96d604221359f666805a9fa43f54da3"
   }
  }
 },
 "nbformat": 4,
 "nbformat_minor": 2
}
